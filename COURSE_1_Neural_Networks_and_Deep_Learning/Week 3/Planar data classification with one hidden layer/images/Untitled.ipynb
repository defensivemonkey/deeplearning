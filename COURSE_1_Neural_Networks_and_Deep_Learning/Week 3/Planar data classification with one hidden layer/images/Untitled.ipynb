{
 "cells": [
  {
   "cell_type": "code",
   "execution_count": 2,
   "metadata": {
    "collapsed": false
   },
   "outputs": [
    {
     "name": "stdout",
     "output_type": "stream",
     "text": [
      "tar: Removing leading `../' from member names\n",
      "../Planar data classification with one hidden layer v3.ipynb\n",
      "../Planar data classification with one hidden layer v4.ipynb\n",
      "../Planar data classification with one hidden layer v5.ipynb\n",
      "../__pycache__/\n",
      "../__pycache__/planar_utils.cpython-35.pyc\n",
      "../__pycache__/testCases_v2.cpython-35.pyc\n",
      "../__pycache__/testCases.cpython-35.pyc\n",
      "../images/\n",
      "../images/sgd_bad.gif\n",
      "../images/classification_kiank.png\n",
      "../images/sgd.gif\n",
      "../images/.ipynb_checkpoints/\n",
      "../images/.ipynb_checkpoints/Untitled-checkpoint.ipynb\n",
      "../images/grad_summary.png\n",
      "../images/Untitled.ipynb\n",
      "../images/notebook.tar.gz\n",
      "tar: ../images/notebook.tar.gz: file changed as we read it\n",
      "../planar_utils.py\n",
      "../testCases.py\n",
      "../testCases_v2.py\n"
     ]
    }
   ],
   "source": [
    "!tar chvfz notebook.tar.gz ../*"
   ]
  },
  {
   "cell_type": "code",
   "execution_count": null,
   "metadata": {
    "collapsed": true
   },
   "outputs": [],
   "source": []
  }
 ],
 "metadata": {
  "kernelspec": {
   "display_name": "Python 3",
   "language": "python",
   "name": "python3"
  },
  "language_info": {
   "codemirror_mode": {
    "name": "ipython",
    "version": 3
   },
   "file_extension": ".py",
   "mimetype": "text/x-python",
   "name": "python",
   "nbconvert_exporter": "python",
   "pygments_lexer": "ipython3",
   "version": "3.5.2"
  }
 },
 "nbformat": 4,
 "nbformat_minor": 1
}
